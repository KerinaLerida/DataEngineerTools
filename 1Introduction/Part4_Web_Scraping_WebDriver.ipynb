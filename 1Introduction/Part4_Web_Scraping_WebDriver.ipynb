{
 "cells": [
  {
   "cell_type": "markdown",
   "metadata": {},
   "source": [
    "# Introduction"
   ]
  },
  {
   "cell_type": "markdown",
   "metadata": {},
   "source": [
    "Aujourd'hui la plupart des sites web utilisent du JavaScript pour rendre le site plus dynamique et agréable mais aussi pour afficher la données. \n",
    "\n",
    "Pour ces sites, la première méthode abordée n'est pas efficace, car de nombreuses requêtes sont utilisées pour se connecter, afficher la donnée, naviguer, il faudrait prendre en compte toutes ces requêtes et les assembler pour simuler le comportement du site. \n",
    "\n",
    "**C'est le comportement de votre navigateur**, il compile toutes les interactions, les requêtes et génère du HTML permettant d'afficher l'interface graphique d'un site web.\n",
    "\n",
    "Pour palier ce problème on peut laisser le navigateur faire son travail et contrôler sa surcouche logiciel. Pour cela on peut prendre le contrôle d'un navigateur comme Chrome, Edge, Firefox ou Safari depuis un script Python. \n",
    "\n",
    "Pour cela, nous allons utiliser un package Python `Selenium` https://selenium-python.readthedocs.io/ qui permet d'instancier un navigateur et de le contrôler. Sélénium est beaucoup utilisé pour générer des tests automatiques de sites web. \n",
    "\n",
    "On peut trouver les drivers des différents browser : \n",
    "- Chrome:\thttps://sites.google.com/a/chromium.org/chromedriver/downloads\n",
    "- Edge:\thttps://developer.microsoft.com/en-us/microsoft-edge/tools/webdriver/\n",
    "- Firefox:\thttps://github.com/mozilla/geckodriver/releases\n",
    "- Safari:\thttps://webkit.org/blog/6900/webdriver-support-in-safari-10/"
   ]
  },
  {
   "cell_type": "code",
   "execution_count": 1,
   "metadata": {
    "ExecuteTime": {
     "end_time": "2023-11-28T14:35:14.250274Z",
     "start_time": "2023-11-28T14:35:04.551839900Z"
    }
   },
   "outputs": [
    {
     "name": "stdout",
     "output_type": "stream",
     "text": [
      "Requirement already satisfied: selenium in c:\\users\\keren\\appdata\\local\\packages\\pythonsoftwarefoundation.python.3.11_qbz5n2kfra8p0\\localcache\\local-packages\\python311\\site-packages (4.15.2)\n",
      "Requirement already satisfied: urllib3[socks]<3,>=1.26 in c:\\users\\keren\\appdata\\local\\packages\\pythonsoftwarefoundation.python.3.11_qbz5n2kfra8p0\\localcache\\local-packages\\python311\\site-packages (from selenium) (2.0.7)\n",
      "Requirement already satisfied: trio~=0.17 in c:\\users\\keren\\appdata\\local\\packages\\pythonsoftwarefoundation.python.3.11_qbz5n2kfra8p0\\localcache\\local-packages\\python311\\site-packages (from selenium) (0.23.1)\n",
      "Requirement already satisfied: trio-websocket~=0.9 in c:\\users\\keren\\appdata\\local\\packages\\pythonsoftwarefoundation.python.3.11_qbz5n2kfra8p0\\localcache\\local-packages\\python311\\site-packages (from selenium) (0.11.1)\n",
      "Requirement already satisfied: certifi>=2021.10.8 in c:\\users\\keren\\appdata\\local\\packages\\pythonsoftwarefoundation.python.3.11_qbz5n2kfra8p0\\localcache\\local-packages\\python311\\site-packages (from selenium) (2023.7.22)\n",
      "Requirement already satisfied: attrs>=20.1.0 in c:\\users\\keren\\appdata\\local\\packages\\pythonsoftwarefoundation.python.3.11_qbz5n2kfra8p0\\localcache\\local-packages\\python311\\site-packages (from trio~=0.17->selenium) (23.1.0)\n",
      "Requirement already satisfied: sortedcontainers in c:\\users\\keren\\appdata\\local\\packages\\pythonsoftwarefoundation.python.3.11_qbz5n2kfra8p0\\localcache\\local-packages\\python311\\site-packages (from trio~=0.17->selenium) (2.4.0)\n",
      "Requirement already satisfied: idna in c:\\users\\keren\\appdata\\local\\packages\\pythonsoftwarefoundation.python.3.11_qbz5n2kfra8p0\\localcache\\local-packages\\python311\\site-packages (from trio~=0.17->selenium) (3.4)\n",
      "Requirement already satisfied: outcome in c:\\users\\keren\\appdata\\local\\packages\\pythonsoftwarefoundation.python.3.11_qbz5n2kfra8p0\\localcache\\local-packages\\python311\\site-packages (from trio~=0.17->selenium) (1.3.0.post0)\n",
      "Requirement already satisfied: sniffio>=1.3.0 in c:\\users\\keren\\appdata\\local\\packages\\pythonsoftwarefoundation.python.3.11_qbz5n2kfra8p0\\localcache\\local-packages\\python311\\site-packages (from trio~=0.17->selenium) (1.3.0)\n",
      "Requirement already satisfied: cffi>=1.14 in c:\\users\\keren\\appdata\\local\\packages\\pythonsoftwarefoundation.python.3.11_qbz5n2kfra8p0\\localcache\\local-packages\\python311\\site-packages (from trio~=0.17->selenium) (1.16.0)\n",
      "Requirement already satisfied: wsproto>=0.14 in c:\\users\\keren\\appdata\\local\\packages\\pythonsoftwarefoundation.python.3.11_qbz5n2kfra8p0\\localcache\\local-packages\\python311\\site-packages (from trio-websocket~=0.9->selenium) (1.2.0)\n",
      "Requirement already satisfied: pysocks!=1.5.7,<2.0,>=1.5.6 in c:\\users\\keren\\appdata\\local\\packages\\pythonsoftwarefoundation.python.3.11_qbz5n2kfra8p0\\localcache\\local-packages\\python311\\site-packages (from urllib3[socks]<3,>=1.26->selenium) (1.7.1)\n",
      "Requirement already satisfied: pycparser in c:\\users\\keren\\appdata\\local\\packages\\pythonsoftwarefoundation.python.3.11_qbz5n2kfra8p0\\localcache\\local-packages\\python311\\site-packages (from cffi>=1.14->trio~=0.17->selenium) (2.21)\n",
      "Requirement already satisfied: h11<1,>=0.9.0 in c:\\users\\keren\\appdata\\local\\packages\\pythonsoftwarefoundation.python.3.11_qbz5n2kfra8p0\\localcache\\local-packages\\python311\\site-packages (from wsproto>=0.14->trio-websocket~=0.9->selenium) (0.14.0)\n"
     ]
    },
    {
     "name": "stderr",
     "output_type": "stream",
     "text": [
      "\n",
      "[notice] A new release of pip is available: 23.2.1 -> 23.3.1\n",
      "[notice] To update, run: C:\\Users\\keren\\AppData\\Local\\Microsoft\\WindowsApps\\PythonSoftwareFoundation.Python.3.11_qbz5n2kfra8p0\\python.exe -m pip install --upgrade pip\n"
     ]
    }
   ],
   "source": [
    "!pip install selenium"
   ]
  },
  {
   "cell_type": "code",
   "execution_count": 2,
   "metadata": {
    "ExecuteTime": {
     "end_time": "2023-11-28T14:36:19.890122200Z",
     "start_time": "2023-11-28T14:36:18.927619700Z"
    }
   },
   "outputs": [],
   "source": [
    "from selenium import webdriver"
   ]
  },
  {
   "cell_type": "code",
   "execution_count": 3,
   "metadata": {
    "ExecuteTime": {
     "end_time": "2023-11-28T14:40:06.735492400Z",
     "start_time": "2023-11-28T14:40:03.472817100Z"
    }
   },
   "outputs": [],
   "source": [
    "chrome = webdriver.Chrome()"
   ]
  },
  {
   "cell_type": "markdown",
   "metadata": {},
   "source": [
    "Vous devez voir apparaître une nouvelle instance de votre navigateur. Si vous voulez accéder à une page : "
   ]
  },
  {
   "cell_type": "code",
   "execution_count": 4,
   "metadata": {
    "ExecuteTime": {
     "end_time": "2023-11-28T14:40:12.994612200Z",
     "start_time": "2023-11-28T14:40:06.707663500Z"
    }
   },
   "outputs": [],
   "source": [
    "chrome.get(\"https://www.amazon.fr\")"
   ]
  },
  {
   "cell_type": "markdown",
   "metadata": {},
   "source": [
    "Allez maintenant voir votre fenêtre. Vous êtes sur le site d'amazon. Vous pouvez maintenant vous déplacer dans la page. Pour cela il va falloir inspecter le code source de la page.\n",
    "\n",
    "Il existe de nombreuse méthode pour récupérer les éléments par exemple `find_element_by_link_text` qui permet de récupérer un élément grâce au text affiché. Ici, si on veut récupérer toutes les `Ventes Flash`"
   ]
  },
  {
   "cell_type": "code",
   "execution_count": 6,
   "metadata": {},
   "outputs": [],
   "source": [
    "from selenium.webdriver.common.by import By\n",
    "from selenium.common.exceptions import WebDriverException\n",
    "\n",
    "# Clique sur le bouton \"Continuer sans accepter\"\n",
    "try:\n",
    "    link = chrome.find_element(By.LINK_TEXT, \"Continuer sans accepter\")\n",
    "    link.click()\n",
    "except WebDriverException:\n",
    "    pass  \n",
    "\n",
    "# Utilise XPATH pour trouver \"Ventes Flash\"\n",
    "try:\n",
    "    link = chrome.find_element(By.XPATH, \"//a[contains(text(), 'Ventes Flash')]\")\n",
    "    type(link)\n",
    "except WebDriverException as e:\n",
    "    print(f\"Error: {e}\")\n",
    "\n",
    "# Recherche par texte (By.LINK_TEXT) échoue car s'attend à trouver exactement \"Ventes Flash\"\n",
    "# Ainsi XPath contains(text(), 'Ventes Flash') permet lui de trouver\n"
   ]
  },
  {
   "cell_type": "markdown",
   "metadata": {},
   "source": [
    "Si on veut entrer dans le lien, il suffit d'appeler la méthode `click`."
   ]
  },
  {
   "cell_type": "code",
   "execution_count": 7,
   "metadata": {
    "ExecuteTime": {
     "end_time": "2023-11-28T14:51:55.038678300Z",
     "start_time": "2023-11-28T14:51:52.904059800Z"
    }
   },
   "outputs": [],
   "source": [
    "link.click()"
   ]
  },
  {
   "cell_type": "markdown",
   "metadata": {},
   "source": [
    "Vous êtes arrivé sur la page des ventes flash. Maintenant nous allons récupérer toutes les ventes actuelles. On remarque que les ventes sont stockés dans des widgets qui porte l'id `widgetContent`."
   ]
  },
  {
   "cell_type": "code",
   "execution_count": 8,
   "metadata": {
    "ExecuteTime": {
     "end_time": "2023-11-28T14:52:22.352439600Z",
     "start_time": "2023-11-28T14:52:22.199100200Z"
    }
   },
   "outputs": [],
   "source": [
    "# widgetContent plus maintenant..\n",
    "\n",
    "#all_widgets = chrome.find_elements(By.ID, \"widgetContent\") \n",
    "#type(all_widgets), len(all_widgets)"
   ]
  },
  {
   "cell_type": "markdown",
   "metadata": {},
   "source": [
    "On obtient une liste d'éléments décrits par cet identifiant. Il y en a 5, un pour chaque ligne. Pour récupérer les différentes offres de la première ligne. on récupère les sections correspondantes: "
   ]
  },
  {
   "cell_type": "code",
   "execution_count": 78,
   "metadata": {},
   "outputs": [],
   "source": [
    "#first_line = all_widgets[0]\n",
    "#all_first_line_elements = first_line.find_elements_by_class_name('a-section')\n",
    "#len(all_first_line_elements)"
   ]
  },
  {
   "cell_type": "markdown",
   "metadata": {},
   "source": [
    "Pour récupérer le text maintenant : "
   ]
  },
  {
   "cell_type": "code",
   "execution_count": 82,
   "metadata": {},
   "outputs": [],
   "source": [
    "#_ = [print(elt.text+ \"\\n\")  for elt in all_first_line_elements]"
   ]
  },
  {
   "cell_type": "code",
   "execution_count": 9,
   "metadata": {},
   "outputs": [
    {
     "name": "stdout",
     "output_type": "stream",
     "text": [
      "Voici les Ventes Flash :\n",
      "\n",
      "Philips Epilateur Satinelle Essentiel comportant 21 em…  :\n",
      " Prix en solde : 17,99€ ,avec -31%  de réduction\n",
      " => Prix de base : 26,00€ \n",
      "Lien : https://www.amazon.fr/Philips-BRE225-00-Epilateur-Satinelle/dp/B07M86Y5J2/?_encoding=UTF8&_encoding=UTF8&ref_=dlx_deals_sc_dcl_img_dt_dealz_tdwdg&pd_rd_w=pafbM&content-id=amzn1.sym.34382300-6001-4869-b7f8-c73eebde5d45&pf_rd_p=34382300-6001-4869-b7f8-c73eebde5d45&pf_rd_r=12VW52DMHH4G9E04HPCN&pd_rd_wg=LM2lx&pd_rd_r=83f6911a-d58f-4a56-9116-4853128e106c\n",
      "\n",
      "\n",
      "Philips Série 3000 Tondeuse cheveux et Multi-Styles com…  :\n",
      " Prix en solde : 29,99€ ,avec -21%  de réduction\n",
      " => Prix de base : 37,99€ \n",
      "Lien : https://www.amazon.fr/MG3740-15-Multigroom-Multi-Styles-Accessoires/dp/B074MGQF4K/?_encoding=UTF8&_encoding=UTF8&ref_=dlx_deals_sc_dcl_img_dt_dealz_tdwdg&pd_rd_w=pafbM&content-id=amzn1.sym.34382300-6001-4869-b7f8-c73eebde5d45&pf_rd_p=34382300-6001-4869-b7f8-c73eebde5d45&pf_rd_r=12VW52DMHH4G9E04HPCN&pd_rd_wg=LM2lx&pd_rd_r=83f6911a-d58f-4a56-9116-4853128e106c\n",
      "\n",
      "\n",
      "Oral-B iO 9 Brosse À Dents Électrique Édition Spéciale N…  :\n",
      " Prix en solde : 225,50€ ,avec -12%  de réduction\n",
      " => Prix de base : 257,22€ \n",
      "Lien : https://www.amazon.fr/Oral-B-%C3%89lectrique-Rechargeable-Intelligence-Artificielle/dp/B094XHYR38/?_encoding=UTF8&_encoding=UTF8&ref_=dlx_deals_sc_dcl_img_dt_dealz_tdwdg&pd_rd_w=pafbM&content-id=amzn1.sym.34382300-6001-4869-b7f8-c73eebde5d45&pf_rd_p=34382300-6001-4869-b7f8-c73eebde5d45&pf_rd_r=12VW52DMHH4G9E04HPCN&pd_rd_wg=LM2lx&pd_rd_r=83f6911a-d58f-4a56-9116-4853128e106c\n",
      "\n",
      "\n",
      "Pic Solution Tensiomètre Manuel Classic Med  :\n",
      " Prix en solde : 15,99€ ,avec -11%  de réduction\n",
      " => Prix de base : 17,94€ \n",
      "Lien : https://www.amazon.fr/Pic-Mesureur-art%C3%A9rielle-m%C3%A9canique-st%C3%A9thoscope/dp/B008LVM70Q/?_encoding=UTF8&_encoding=UTF8&ref_=dlx_deals_sc_dcl_img_dt_dealz_tdwdg&pd_rd_w=pafbM&content-id=amzn1.sym.34382300-6001-4869-b7f8-c73eebde5d45&pf_rd_p=34382300-6001-4869-b7f8-c73eebde5d45&pf_rd_r=12VW52DMHH4G9E04HPCN&pd_rd_wg=LM2lx&pd_rd_r=83f6911a-d58f-4a56-9116-4853128e106c\n",
      "\n",
      "\n",
      "\n",
      "\n",
      "\n",
      "\n",
      "\n",
      "\n",
      "\n",
      "\n",
      "\n",
      "\n",
      "\n",
      "\n",
      "\n",
      "\n",
      "\n",
      "\n",
      "\n",
      "\n",
      "\n",
      "\n"
     ]
    }
   ],
   "source": [
    "carousel_element = chrome.find_element(By.CSS_SELECTOR, '.a-carousel')\n",
    "\n",
    "# \n",
    "# Trouver les éléments enfants de l'élément via ici 'a'\n",
    "all_links_in_carousel = carousel_element.find_elements(By.TAG_NAME, 'a')\n",
    "\n",
    "print(\"Voici les Ventes Flash :\\n\")\n",
    "for link in all_links_in_carousel:\n",
    "    text=(link.text).replace(\"\\n\", \"\").replace(\"Vente flash\",\"\").replace(\"Le plus bas : \",\"\")\n",
    "    if \"%\" in text:\n",
    "        text=text.split('%')\n",
    "        reduc=text[0]+'%'\n",
    "        \n",
    "        if len(text)>1:\n",
    "            text=text[1].split('€')\n",
    "            if text :\n",
    "                t=text[0]\n",
    "                l=len(t)\n",
    "                prices=t[:l-2]+\",\"+t[l-2:]+\"€\"\n",
    "                price=text[1]+\"€\"\n",
    "\n",
    "                if len(text)>2:\n",
    "                    titre=text[2]\n",
    "                    lien=link.get_attribute(\"href\")\n",
    "                    print(titre,\" :\\n\",\"Prix en solde :\",prices,\",avec\",reduc,\" de réduction\\n\", \"=> Prix de base :\",price,\"\\nLien :\",lien)\n",
    "    \n",
    "    print(\"\\n\")"
   ]
  },
  {
   "cell_type": "markdown",
   "metadata": {},
   "source": [
    "Si vous êtes fan de JavaScript vous pouvez même injecter du code JS dans le navigateur depuis Python pour exécuter des opérations complexes. "
   ]
  },
  {
   "cell_type": "code",
   "execution_count": 10,
   "metadata": {},
   "outputs": [],
   "source": [
    "js_script = \"\"\"\n",
    "const class_name = 'DRIOC'\n",
    "console.log(`Hi from ${class_name}`)\n",
    "\"\"\""
   ]
  },
  {
   "cell_type": "code",
   "execution_count": 11,
   "metadata": {},
   "outputs": [],
   "source": [
    "chrome.execute_script(js_script)"
   ]
  },
  {
   "cell_type": "code",
   "execution_count": 27,
   "metadata": {},
   "outputs": [
    {
     "ename": "WebDriverException",
     "evalue": "Message: disconnected: not connected to DevTools\n  (failed to check if window was closed: disconnected: not connected to DevTools)\n  (Session info: chrome=119.0.6045.200)\nStacktrace:\n\tGetHandleVerifier [0x00007FF7A79482B2+55298]\n\t(No symbol) [0x00007FF7A78B5E02]\n\t(No symbol) [0x00007FF7A77705AB]\n\t(No symbol) [0x00007FF7A775D1AA]\n\t(No symbol) [0x00007FF7A775D9CE]\n\t(No symbol) [0x00007FF7A7770AF8]\n\t(No symbol) [0x00007FF7A774FB90]\n\t(No symbol) [0x00007FF7A77DC714]\n\t(No symbol) [0x00007FF7A77D2070]\n\t(No symbol) [0x00007FF7A77A670A]\n\t(No symbol) [0x00007FF7A77A7964]\n\tGetHandleVerifier [0x00007FF7A7CC0AAB+3694587]\n\tGetHandleVerifier [0x00007FF7A7D1728E+4048862]\n\tGetHandleVerifier [0x00007FF7A7D0F173+4015811]\n\tGetHandleVerifier [0x00007FF7A79E47D6+695590]\n\t(No symbol) [0x00007FF7A78C0CE8]\n\t(No symbol) [0x00007FF7A78BCF34]\n\t(No symbol) [0x00007FF7A78BD062]\n\t(No symbol) [0x00007FF7A78AD3A3]\n\tBaseThreadInitThunk [0x00007FFC3203257D+29]\n\tRtlUserThreadStart [0x00007FFC327AAA58+40]\n",
     "output_type": "error",
     "traceback": [
      "\u001b[1;31m---------------------------------------------------------------------------\u001b[0m",
      "\u001b[1;31mWebDriverException\u001b[0m                        Traceback (most recent call last)",
      "\u001b[1;32mc:\\Users\\keren\\Documents\\ESIEE\\E4\\S1\\P2\\DSIA_4201C_DataEngineerTools\\DataEngineerTools\\1Introduction\\Part4_Web_Scraping_WebDriver.ipynb Cell 22\u001b[0m line \u001b[0;36m1\n\u001b[1;32m----> <a href='vscode-notebook-cell:/c%3A/Users/keren/Documents/ESIEE/E4/S1/P2/DSIA_4201C_DataEngineerTools/DataEngineerTools/1Introduction/Part4_Web_Scraping_WebDriver.ipynb#X52sZmlsZQ%3D%3D?line=0'>1</a>\u001b[0m chrome\u001b[39m.\u001b[39;49mclose()\n",
      "File \u001b[1;32m~\\AppData\\Local\\Packages\\PythonSoftwareFoundation.Python.3.11_qbz5n2kfra8p0\\LocalCache\\local-packages\\Python311\\site-packages\\selenium\\webdriver\\remote\\webdriver.py:458\u001b[0m, in \u001b[0;36mWebDriver.close\u001b[1;34m(self)\u001b[0m\n\u001b[0;32m    450\u001b[0m \u001b[39mdef\u001b[39;00m \u001b[39mclose\u001b[39m(\u001b[39mself\u001b[39m) \u001b[39m-\u001b[39m\u001b[39m>\u001b[39m \u001b[39mNone\u001b[39;00m:\n\u001b[0;32m    451\u001b[0m \u001b[39m    \u001b[39m\u001b[39m\"\"\"Closes the current window.\u001b[39;00m\n\u001b[0;32m    452\u001b[0m \n\u001b[0;32m    453\u001b[0m \u001b[39m    :Usage:\u001b[39;00m\n\u001b[1;32m   (...)\u001b[0m\n\u001b[0;32m    456\u001b[0m \u001b[39m            driver.close()\u001b[39;00m\n\u001b[0;32m    457\u001b[0m \u001b[39m    \"\"\"\u001b[39;00m\n\u001b[1;32m--> 458\u001b[0m     \u001b[39mself\u001b[39;49m\u001b[39m.\u001b[39;49mexecute(Command\u001b[39m.\u001b[39;49mCLOSE)\n",
      "File \u001b[1;32m~\\AppData\\Local\\Packages\\PythonSoftwareFoundation.Python.3.11_qbz5n2kfra8p0\\LocalCache\\local-packages\\Python311\\site-packages\\selenium\\webdriver\\remote\\webdriver.py:347\u001b[0m, in \u001b[0;36mWebDriver.execute\u001b[1;34m(self, driver_command, params)\u001b[0m\n\u001b[0;32m    345\u001b[0m response \u001b[39m=\u001b[39m \u001b[39mself\u001b[39m\u001b[39m.\u001b[39mcommand_executor\u001b[39m.\u001b[39mexecute(driver_command, params)\n\u001b[0;32m    346\u001b[0m \u001b[39mif\u001b[39;00m response:\n\u001b[1;32m--> 347\u001b[0m     \u001b[39mself\u001b[39;49m\u001b[39m.\u001b[39;49merror_handler\u001b[39m.\u001b[39;49mcheck_response(response)\n\u001b[0;32m    348\u001b[0m     response[\u001b[39m\"\u001b[39m\u001b[39mvalue\u001b[39m\u001b[39m\"\u001b[39m] \u001b[39m=\u001b[39m \u001b[39mself\u001b[39m\u001b[39m.\u001b[39m_unwrap_value(response\u001b[39m.\u001b[39mget(\u001b[39m\"\u001b[39m\u001b[39mvalue\u001b[39m\u001b[39m\"\u001b[39m, \u001b[39mNone\u001b[39;00m))\n\u001b[0;32m    349\u001b[0m     \u001b[39mreturn\u001b[39;00m response\n",
      "File \u001b[1;32m~\\AppData\\Local\\Packages\\PythonSoftwareFoundation.Python.3.11_qbz5n2kfra8p0\\LocalCache\\local-packages\\Python311\\site-packages\\selenium\\webdriver\\remote\\errorhandler.py:229\u001b[0m, in \u001b[0;36mErrorHandler.check_response\u001b[1;34m(self, response)\u001b[0m\n\u001b[0;32m    227\u001b[0m         alert_text \u001b[39m=\u001b[39m value[\u001b[39m\"\u001b[39m\u001b[39malert\u001b[39m\u001b[39m\"\u001b[39m]\u001b[39m.\u001b[39mget(\u001b[39m\"\u001b[39m\u001b[39mtext\u001b[39m\u001b[39m\"\u001b[39m)\n\u001b[0;32m    228\u001b[0m     \u001b[39mraise\u001b[39;00m exception_class(message, screen, stacktrace, alert_text)  \u001b[39m# type: ignore[call-arg]  # mypy is not smart enough here\u001b[39;00m\n\u001b[1;32m--> 229\u001b[0m \u001b[39mraise\u001b[39;00m exception_class(message, screen, stacktrace)\n",
      "\u001b[1;31mWebDriverException\u001b[0m: Message: disconnected: not connected to DevTools\n  (failed to check if window was closed: disconnected: not connected to DevTools)\n  (Session info: chrome=119.0.6045.200)\nStacktrace:\n\tGetHandleVerifier [0x00007FF7A79482B2+55298]\n\t(No symbol) [0x00007FF7A78B5E02]\n\t(No symbol) [0x00007FF7A77705AB]\n\t(No symbol) [0x00007FF7A775D1AA]\n\t(No symbol) [0x00007FF7A775D9CE]\n\t(No symbol) [0x00007FF7A7770AF8]\n\t(No symbol) [0x00007FF7A774FB90]\n\t(No symbol) [0x00007FF7A77DC714]\n\t(No symbol) [0x00007FF7A77D2070]\n\t(No symbol) [0x00007FF7A77A670A]\n\t(No symbol) [0x00007FF7A77A7964]\n\tGetHandleVerifier [0x00007FF7A7CC0AAB+3694587]\n\tGetHandleVerifier [0x00007FF7A7D1728E+4048862]\n\tGetHandleVerifier [0x00007FF7A7D0F173+4015811]\n\tGetHandleVerifier [0x00007FF7A79E47D6+695590]\n\t(No symbol) [0x00007FF7A78C0CE8]\n\t(No symbol) [0x00007FF7A78BCF34]\n\t(No symbol) [0x00007FF7A78BD062]\n\t(No symbol) [0x00007FF7A78AD3A3]\n\tBaseThreadInitThunk [0x00007FFC3203257D+29]\n\tRtlUserThreadStart [0x00007FFC327AAA58+40]\n"
     ]
    }
   ],
   "source": [
    "chrome.close()"
   ]
  },
  {
   "cell_type": "markdown",
   "metadata": {},
   "source": [
    "Vous pouvez aller vérifier dans la console Javascript du navigateur que le message apparait bien. "
   ]
  },
  {
   "cell_type": "markdown",
   "metadata": {},
   "source": [
    "# Exercice"
   ]
  },
  {
   "cell_type": "markdown",
   "metadata": {},
   "source": [
    "## Exercice 1"
   ]
  },
  {
   "cell_type": "markdown",
   "metadata": {},
   "source": [
    "Extraire le prix des offres de cette page : https://www.amazon.fr/s?k=pc+portable+gamer&crid=1RDZ1KDS76GLF&sprefix=pc+por%2Caps%2C72&ref=nb_sb_ss_ts-doa-p_1_6\n",
    "\n",
    "a-section a-spacing-base div class\n",
    "s-image img class\n",
    "a-section a-spacing-small puis-padding-left-small puis-padding-right-small div class\n"
   ]
  },
  {
   "cell_type": "code",
   "execution_count": 20,
   "metadata": {},
   "outputs": [],
   "source": [
    "#def extract_price(offer_web_element):\n",
    "#    raise NotImplementedError('Need to be implemented')\n",
    "#    pass\n",
    "\n",
    "#extract_price(all_first_line_elements[0])"
   ]
  },
  {
   "cell_type": "markdown",
   "metadata": {},
   "source": [
    "Extraire l'image de l'offre: "
   ]
  },
  {
   "cell_type": "code",
   "execution_count": 14,
   "metadata": {},
   "outputs": [],
   "source": [
    "#def extract_image(offer_web_element):\n",
    "#    raise NotImplementedError('Need to be implemented')\n",
    "#    pass\n",
    "\n",
    "#extract_image(all_first_line_elements[0])"
   ]
  },
  {
   "cell_type": "markdown",
   "metadata": {},
   "source": [
    "Extraire le titre de l'offre: "
   ]
  },
  {
   "cell_type": "code",
   "execution_count": 13,
   "metadata": {},
   "outputs": [],
   "source": [
    "#def extract_title(offer_web_element):\n",
    "#    raise NotImplementedError('Need to be implemented')\n",
    "#    pass\n",
    "\n",
    "#extract_title(all_first_line_elements[0])"
   ]
  },
  {
   "cell_type": "code",
   "execution_count": 26,
   "metadata": {},
   "outputs": [],
   "source": [
    "# Initialisation du navigateur (dans cet exemple, nous utilisons Chrome)\n",
    "driver = webdriver.Chrome()\n",
    "\n",
    "# Ouvrir la page Amazon\n",
    "url = \"https://www.amazon.fr/s?k=pc+portable+gamer&crid=1RDZ1KDS76GLF&sprefix=pc+por%2Caps%2C72&ref=nb_sb_ss_ts-doa-p_1_6\"\n",
    "driver.get(url)\n",
    "\n",
    "try:\n",
    "    # Récupérer toutes les sections contenant les informations sur les offres\n",
    "    offre_sections = driver.find_elements(By.CSS_SELECTOR, 'div.s-result-item')\n",
    "\n",
    "    # Parcourir chaque section d'offre\n",
    "    for offre_section in offre_sections:\n",
    "        # Récupérer l'image de l'offre\n",
    "        image_offre = offre_section.find_element(By.CSS_SELECTOR, 'div.s-image img').get_attribute('src')\n",
    "\n",
    "        # Récupérer les informations sur l'offre (titre, prix, note, etc)\n",
    "        infos_offre = offre_section.find_element(By.CSS_SELECTOR, 'div.a-section.a-spacing-small div').text\n",
    "\n",
    "        # Afficher les informations\n",
    "        print(\"Image:\", image_offre)\n",
    "        print(\"Informations:\", infos_offre)\n",
    "        print(\"\\n\" + \"=\"*50 + \"\\n\")\n",
    "\n",
    "except WebDriverException as e:\n",
    "    print(\"Une exception s'est produite:\", e)\n",
    "\n"
   ]
  },
  {
   "cell_type": "code",
   "execution_count": null,
   "metadata": {},
   "outputs": [],
   "source": [
    "driver.close()"
   ]
  }
 ],
 "metadata": {
  "kernelspec": {
   "display_name": "Python 3 (ipykernel)",
   "language": "python",
   "name": "python3"
  },
  "language_info": {
   "codemirror_mode": {
    "name": "ipython",
    "version": 3
   },
   "file_extension": ".py",
   "mimetype": "text/x-python",
   "name": "python",
   "nbconvert_exporter": "python",
   "pygments_lexer": "ipython3",
   "version": "3.11.6"
  }
 },
 "nbformat": 4,
 "nbformat_minor": 2
}
